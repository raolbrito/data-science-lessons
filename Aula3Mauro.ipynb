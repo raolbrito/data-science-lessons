{
  "nbformat": 4,
  "nbformat_minor": 0,
  "metadata": {
    "colab": {
      "name": "Aula3.ipynb",
      "provenance": [],
      "collapsed_sections": [
        "t35gw4g3HkkG",
        "YBJtOqsUKs4K",
        "WE4uqQgPMG05",
        "eh-KfktTQDqO",
        "C2Ks0LZVRC83",
        "6uM0l3YNTloj",
        "6OE4iNaycsLS",
        "AXQm8X1Ocz62"
      ],
      "toc_visible": true,
      "include_colab_link": true
    },
    "kernelspec": {
      "name": "python3",
      "display_name": "Python 3"
    }
  },
  "cells": [
    {
      "cell_type": "markdown",
      "metadata": {
        "id": "view-in-github",
        "colab_type": "text"
      },
      "source": [
        "<a href=\"https://colab.research.google.com/github/raolbrito/data-science-lessons/blob/master/Aula3Mauro.ipynb\" target=\"_parent\"><img src=\"https://colab.research.google.com/assets/colab-badge.svg\" alt=\"Open In Colab\"/></a>"
      ]
    },
    {
      "cell_type": "markdown",
      "metadata": {
        "id": "t35gw4g3HkkG",
        "colab_type": "text"
      },
      "source": [
        "# Estruturas de dados em Python\n"
      ]
    },
    {
      "cell_type": "markdown",
      "metadata": {
        "id": "5215RJS-Hvzs",
        "colab_type": "text"
      },
      "source": [
        "### Variáveis"
      ]
    },
    {
      "cell_type": "code",
      "metadata": {
        "id": "EjP0_nefHuZa",
        "colab_type": "code",
        "colab": {}
      },
      "source": [
        "x = 3\n",
        "nome = \"Mauro\"\n",
        "logica = True"
      ],
      "execution_count": null,
      "outputs": []
    },
    {
      "cell_type": "code",
      "metadata": {
        "id": "w6If2vjYGHvf",
        "colab_type": "code",
        "colab": {}
      },
      "source": [
        "nome1 = \"Mauro\"\n",
        "nome2 = \"Bete\"\n",
        "nome3 = \"Pedro\""
      ],
      "execution_count": null,
      "outputs": []
    },
    {
      "cell_type": "markdown",
      "metadata": {
        "id": "5tc-DQQnINZk",
        "colab_type": "text"
      },
      "source": [
        "### Listas\n"
      ]
    },
    {
      "cell_type": "code",
      "metadata": {
        "id": "73FQFsLPIS3V",
        "colab_type": "code",
        "colab": {}
      },
      "source": [
        "nomes = [\"Mauro\",\"Bete\",\"Pedro\"]\n",
        "nomes = [nome1,nome2,nome3]\n",
        "nomes.append(\"João\")\n",
        "print(nomes)"
      ],
      "execution_count": null,
      "outputs": []
    },
    {
      "cell_type": "code",
      "metadata": {
        "id": "fvHpCG0FInYK",
        "colab_type": "code",
        "colab": {}
      },
      "source": [
        "nomes.remove(\"Mauro\")\n",
        "print(nomes)\n",
        "nomes.remove(\"Maria\")"
      ],
      "execution_count": null,
      "outputs": []
    },
    {
      "cell_type": "code",
      "metadata": {
        "id": "_bXYaEPCI8wC",
        "colab_type": "code",
        "colab": {}
      },
      "source": [
        "\"Maria\" in nomes"
      ],
      "execution_count": null,
      "outputs": []
    },
    {
      "cell_type": "code",
      "metadata": {
        "id": "3wNC-6-7JC5z",
        "colab_type": "code",
        "colab": {}
      },
      "source": [
        "if \"Maria\" in nomes:\n",
        "  nomes.remove(\"Maria\")\n",
        "else:\n",
        "  print(\"Não tem maria em nomes\")\n"
      ],
      "execution_count": null,
      "outputs": []
    },
    {
      "cell_type": "code",
      "metadata": {
        "id": "uBEahWKGJO6g",
        "colab_type": "code",
        "colab": {}
      },
      "source": [
        "for nome in nomes:\n",
        "  print(nome)"
      ],
      "execution_count": null,
      "outputs": []
    },
    {
      "cell_type": "markdown",
      "metadata": {
        "id": "kyyeWtXeM2jX",
        "colab_type": "text"
      },
      "source": [
        "## Tuplas"
      ]
    },
    {
      "cell_type": "code",
      "metadata": {
        "id": "dpPpBpfrM5dW",
        "colab_type": "code",
        "colab": {}
      },
      "source": [
        "primos = (1,2,3,5,7,11,13,17,23)\n",
        "print(primos)\n",
        "primo_par = 2,\n",
        "print(primo_par)"
      ],
      "execution_count": null,
      "outputs": []
    },
    {
      "cell_type": "markdown",
      "metadata": {
        "id": "otaxoRpcJbPc",
        "colab_type": "text"
      },
      "source": [
        "## Dicionários"
      ]
    },
    {
      "cell_type": "code",
      "metadata": {
        "id": "29dKdg9TJWeK",
        "colab_type": "code",
        "colab": {}
      },
      "source": [
        "comida = {}"
      ],
      "execution_count": null,
      "outputs": []
    },
    {
      "cell_type": "code",
      "metadata": {
        "id": "7D7qP9bkJmB7",
        "colab_type": "code",
        "colab": {}
      },
      "source": [
        "comida[\"feijoada\"] = \"Minha comida preferida\"\n",
        "comida[\"coentro\"] = \"Vixi, detesto!\"\n",
        "comida"
      ],
      "execution_count": null,
      "outputs": []
    },
    {
      "cell_type": "code",
      "metadata": {
        "id": "6b9a8pg-JzkK",
        "colab_type": "code",
        "colab": {}
      },
      "source": [
        "comida[\"coentro\"]"
      ],
      "execution_count": null,
      "outputs": []
    },
    {
      "cell_type": "code",
      "metadata": {
        "id": "vNb4HPusJ5ec",
        "colab_type": "code",
        "colab": {}
      },
      "source": [
        "comida[\"queijo\"] = \"Uai, sou mineiro!\""
      ],
      "execution_count": null,
      "outputs": []
    },
    {
      "cell_type": "code",
      "metadata": {
        "id": "nvXqlwsMKC6P",
        "colab_type": "code",
        "colab": {}
      },
      "source": [
        "print(comida)"
      ],
      "execution_count": null,
      "outputs": []
    },
    {
      "cell_type": "code",
      "metadata": {
        "id": "c2mVQlANKEeL",
        "colab_type": "code",
        "colab": {}
      },
      "source": [
        "if 'queijo' in comida:\n",
        "  print(\"O que eu acho de queijo é: \")\n",
        "  print(comida[\"queijo\"])"
      ],
      "execution_count": null,
      "outputs": []
    },
    {
      "cell_type": "code",
      "metadata": {
        "id": "AyTtnuSUKWPF",
        "colab_type": "code",
        "colab": {}
      },
      "source": [
        "del comida[\"coentro\"]"
      ],
      "execution_count": null,
      "outputs": []
    },
    {
      "cell_type": "code",
      "metadata": {
        "id": "Nn61tvHCKiBr",
        "colab_type": "code",
        "colab": {}
      },
      "source": [
        "print(comida)"
      ],
      "execution_count": null,
      "outputs": []
    },
    {
      "cell_type": "code",
      "metadata": {
        "id": "pl1H8JUlPqkP",
        "colab_type": "code",
        "colab": {}
      },
      "source": [
        "for key in comida:\n",
        "  print(key,' -> ',comida[key])"
      ],
      "execution_count": null,
      "outputs": []
    },
    {
      "cell_type": "markdown",
      "metadata": {
        "id": "YBJtOqsUKs4K",
        "colab_type": "text"
      },
      "source": [
        "## Combinando estruturas de dados\n"
      ]
    },
    {
      "cell_type": "code",
      "metadata": {
        "id": "6SsyDx2UKsCi",
        "colab_type": "code",
        "colab": {}
      },
      "source": [
        "eu = {\"família\" : nomes,\n",
        "      \"comidas\" : comida}"
      ],
      "execution_count": null,
      "outputs": []
    },
    {
      "cell_type": "code",
      "metadata": {
        "id": "99GAVZobKjSr",
        "colab_type": "code",
        "colab": {}
      },
      "source": [
        "print(eu)"
      ],
      "execution_count": null,
      "outputs": []
    },
    {
      "cell_type": "markdown",
      "metadata": {
        "id": "WE4uqQgPMG05",
        "colab_type": "text"
      },
      "source": [
        "## Outros exemplos em estrutura de dados\n"
      ]
    },
    {
      "cell_type": "code",
      "metadata": {
        "id": "9omwZHleLpK8",
        "colab_type": "code",
        "colab": {}
      },
      "source": [
        " print(sorted(nomes))"
      ],
      "execution_count": null,
      "outputs": []
    },
    {
      "cell_type": "code",
      "metadata": {
        "id": "evmBdehRMjbo",
        "colab_type": "code",
        "colab": {}
      },
      "source": [
        "print(type(nome1))\n",
        "print(type(nomes))\n",
        "print(type(primos))\n",
        "print(type(eu))"
      ],
      "execution_count": null,
      "outputs": []
    },
    {
      "cell_type": "markdown",
      "metadata": {
        "id": "eh-KfktTQDqO",
        "colab_type": "text"
      },
      "source": [
        "## Pandas"
      ]
    },
    {
      "cell_type": "code",
      "metadata": {
        "id": "DFB0P0v1QDDV",
        "colab_type": "code",
        "colab": {}
      },
      "source": [
        "import pandas as pd\n",
        "from pandas import Series, DataFrame"
      ],
      "execution_count": null,
      "outputs": []
    },
    {
      "cell_type": "markdown",
      "metadata": {
        "id": "C2Ks0LZVRC83",
        "colab_type": "text"
      },
      "source": [
        "## Série"
      ]
    },
    {
      "cell_type": "code",
      "metadata": {
        "id": "wr8pH0kkQnd4",
        "colab_type": "code",
        "colab": {}
      },
      "source": [
        "ser_1 = Series([1, 1, 2, -3, -5, 8, 13])\n",
        "ser_1"
      ],
      "execution_count": null,
      "outputs": []
    },
    {
      "cell_type": "code",
      "metadata": {
        "id": "z7Ina-Y5RPUL",
        "colab_type": "code",
        "colab": {}
      },
      "source": [
        "print(ser_1.index)\n",
        "print(ser_1.values)\n"
      ],
      "execution_count": null,
      "outputs": []
    },
    {
      "cell_type": "code",
      "metadata": {
        "id": "kkUpFyoYRoPQ",
        "colab_type": "code",
        "colab": {}
      },
      "source": [
        "ser_2 = Series([1, 1, 2, -3, -5], index=['a', 'b', 'c', 'd', 'e'])\n",
        "ser_2"
      ],
      "execution_count": null,
      "outputs": []
    },
    {
      "cell_type": "code",
      "metadata": {
        "id": "MjQPr7iwR1gB",
        "colab_type": "code",
        "colab": {}
      },
      "source": [
        "ser_2['a']"
      ],
      "execution_count": null,
      "outputs": []
    },
    {
      "cell_type": "code",
      "metadata": {
        "id": "30CUgAWER4XX",
        "colab_type": "code",
        "colab": {}
      },
      "source": [
        "ser_2[4] == ser_2['e']"
      ],
      "execution_count": null,
      "outputs": []
    },
    {
      "cell_type": "code",
      "metadata": {
        "id": "J18f_OLMSAyB",
        "colab_type": "code",
        "colab": {}
      },
      "source": [
        "ser_2[['c', 'a', 'b']]"
      ],
      "execution_count": null,
      "outputs": []
    },
    {
      "cell_type": "code",
      "metadata": {
        "id": "0_XYe0glSDyE",
        "colab_type": "code",
        "colab": {}
      },
      "source": [
        "ser_2[ser_2 > 0]"
      ],
      "execution_count": null,
      "outputs": []
    },
    {
      "cell_type": "code",
      "metadata": {
        "id": "QR8K3RXiSG8f",
        "colab_type": "code",
        "colab": {}
      },
      "source": [
        "ser_2 * 2"
      ],
      "execution_count": null,
      "outputs": []
    },
    {
      "cell_type": "code",
      "metadata": {
        "id": "DsfNFE8KSJzK",
        "colab_type": "code",
        "colab": {}
      },
      "source": [
        "import numpy as np\n",
        "np.exp(ser_2)"
      ],
      "execution_count": null,
      "outputs": []
    },
    {
      "cell_type": "code",
      "metadata": {
        "id": "OeUMfdiVSMv_",
        "colab_type": "code",
        "colab": {}
      },
      "source": [
        "ser_3 = Series(eu)\n",
        "ser_3"
      ],
      "execution_count": null,
      "outputs": []
    },
    {
      "cell_type": "code",
      "metadata": {
        "id": "5M3KMkCiSluS",
        "colab_type": "code",
        "colab": {}
      },
      "source": [
        "pd.isnull(ser_3)"
      ],
      "execution_count": null,
      "outputs": []
    },
    {
      "cell_type": "markdown",
      "metadata": {
        "id": "6uM0l3YNTloj",
        "colab_type": "text"
      },
      "source": [
        "## Dataframe"
      ]
    },
    {
      "cell_type": "code",
      "metadata": {
        "id": "sqh4OJtJTH1j",
        "colab_type": "code",
        "colab": {}
      },
      "source": [
        "info = {'estado' : ['MG', 'MG', 'MG', 'SP', 'SP'],\n",
        "        'ano' : [2012, 2013, 2014, 2014, 2015],\n",
        "        'pop' : [5.0, 5.1, 5.2, 4.0, 4.1]}\n",
        "print(type(info))\n",
        "df = DataFrame(info)\n",
        "print(type(df))\n",
        "print(df)"
      ],
      "execution_count": null,
      "outputs": []
    },
    {
      "cell_type": "code",
      "metadata": {
        "id": "Z_iFFDT3S403",
        "colab_type": "code",
        "colab": {}
      },
      "source": [
        "df = DataFrame(info, columns=['ano', 'estado', 'pop', 'desempregados'])\n",
        "df"
      ],
      "execution_count": null,
      "outputs": []
    },
    {
      "cell_type": "code",
      "metadata": {
        "id": "j6BnS3f-Vr5h",
        "colab_type": "code",
        "colab": {}
      },
      "source": [
        "print(df['ano'])\n",
        "print(df.desempregados)"
      ],
      "execution_count": null,
      "outputs": []
    },
    {
      "cell_type": "code",
      "metadata": {
        "id": "o2aev0S9V81L",
        "colab_type": "code",
        "colab": {}
      },
      "source": [
        "df.iloc[4]"
      ],
      "execution_count": null,
      "outputs": []
    },
    {
      "cell_type": "code",
      "metadata": {
        "id": "kNULdXkwWSY6",
        "colab_type": "code",
        "colab": {}
      },
      "source": [
        "type(df.iloc[4])"
      ],
      "execution_count": null,
      "outputs": []
    },
    {
      "cell_type": "code",
      "metadata": {
        "id": "NiGA84CsWdpe",
        "colab_type": "code",
        "colab": {}
      },
      "source": [
        "df.desempregados = np.random.rand(5) * 1000000\n",
        "df"
      ],
      "execution_count": null,
      "outputs": []
    },
    {
      "cell_type": "code",
      "metadata": {
        "id": "TD6FiiVrW7Ou",
        "colab_type": "code",
        "colab": {}
      },
      "source": [
        "df.desempregados = df.desempregados.astype(int)\n",
        "df"
      ],
      "execution_count": null,
      "outputs": []
    },
    {
      "cell_type": "code",
      "metadata": {
        "id": "fbn7OfLLXj7Y",
        "colab_type": "code",
        "colab": {}
      },
      "source": [
        "desempregados = Series([454333, 232111, 242422], index=[2, 3, 4])\n",
        "df.desempregados = desempregados\n",
        "df"
      ],
      "execution_count": null,
      "outputs": []
    },
    {
      "cell_type": "code",
      "metadata": {
        "id": "D5AvJtkqYfEW",
        "colab_type": "code",
        "colab": {}
      },
      "source": [
        "df['nonsense'] = df.ano * df.desempregados\n",
        "df"
      ],
      "execution_count": null,
      "outputs": []
    },
    {
      "cell_type": "code",
      "metadata": {
        "id": "l30qF_ZoYpHw",
        "colab_type": "code",
        "colab": {}
      },
      "source": [
        "del df['nonsense']\n",
        "df"
      ],
      "execution_count": null,
      "outputs": []
    },
    {
      "cell_type": "code",
      "metadata": {
        "id": "2F74_JPeY2Be",
        "colab_type": "code",
        "colab": {}
      },
      "source": [
        "df2 = df[['ano','pop']]\n",
        "df"
      ],
      "execution_count": null,
      "outputs": []
    },
    {
      "cell_type": "code",
      "metadata": {
        "id": "GIJWVRUiZC8U",
        "colab_type": "code",
        "colab": {}
      },
      "source": [
        "df2.T"
      ],
      "execution_count": null,
      "outputs": []
    },
    {
      "cell_type": "code",
      "metadata": {
        "id": "ddVqemygZVAU",
        "colab_type": "code",
        "colab": {}
      },
      "source": [
        "df.values"
      ],
      "execution_count": null,
      "outputs": []
    },
    {
      "cell_type": "code",
      "metadata": {
        "id": "aE2nhfH6ZdQA",
        "colab_type": "code",
        "colab": {}
      },
      "source": [
        "type(df.values)"
      ],
      "execution_count": null,
      "outputs": []
    },
    {
      "cell_type": "code",
      "metadata": {
        "id": "LQ0pm6h0ZxEI",
        "colab_type": "code",
        "colab": {}
      },
      "source": [
        "df2 = df.copy()\n",
        "df.drop([0, 1])"
      ],
      "execution_count": null,
      "outputs": []
    },
    {
      "cell_type": "code",
      "metadata": {
        "id": "H8t1OsD3Z_dN",
        "colab_type": "code",
        "colab": {}
      },
      "source": [
        "df2"
      ],
      "execution_count": null,
      "outputs": []
    },
    {
      "cell_type": "code",
      "metadata": {
        "id": "IFUApmbYawTu",
        "colab_type": "code",
        "colab": {}
      },
      "source": [
        "df2.ano > 2013"
      ],
      "execution_count": null,
      "outputs": []
    },
    {
      "cell_type": "code",
      "metadata": {
        "id": "mKkhps67aAqH",
        "colab_type": "code",
        "colab": {}
      },
      "source": [
        "df2[df2.ano > 2013]"
      ],
      "execution_count": null,
      "outputs": []
    },
    {
      "cell_type": "code",
      "metadata": {
        "id": "5kpwZAgpasEl",
        "colab_type": "code",
        "colab": {}
      },
      "source": [
        "df2.iloc[2:4]"
      ],
      "execution_count": null,
      "outputs": []
    },
    {
      "cell_type": "code",
      "metadata": {
        "id": "o9gLiESwbFtO",
        "colab_type": "code",
        "colab": {}
      },
      "source": [
        "df2.iloc[2:4].pop"
      ],
      "execution_count": null,
      "outputs": []
    },
    {
      "cell_type": "markdown",
      "metadata": {
        "id": "CAmwWFRKbrB0",
        "colab_type": "text"
      },
      "source": [
        "## Numpy arrays"
      ]
    },
    {
      "cell_type": "markdown",
      "metadata": {
        "id": "6OE4iNaycsLS",
        "colab_type": "text"
      },
      "source": [
        "### Criando arrays"
      ]
    },
    {
      "cell_type": "code",
      "metadata": {
        "id": "iutsqrptbRM7",
        "colab_type": "code",
        "colab": {}
      },
      "source": [
        "import numpy as np\n",
        "\n",
        "a = np.array([1, 2, 3])   # Cria um vetor\n",
        "print(type(a))            \n",
        "print(a.shape)             \n",
        "print(a[0], a[1], a[2])   \n",
        "a[0] = 5                  \n",
        "print(a)                  \n",
        "\n",
        "b = np.array([[1,2,3],[4,5,6]])    # Cria uma matriz\n",
        "print(b.shape)                     \n",
        "print(b[0, 0], b[0, 1], b[1, 0])   "
      ],
      "execution_count": null,
      "outputs": []
    },
    {
      "cell_type": "code",
      "metadata": {
        "id": "ZJGYWKogcCOd",
        "colab_type": "code",
        "colab": {}
      },
      "source": [
        "a = np.zeros((2,2))   #Cria array de zeros\n",
        "print(a)              \n",
        "                      \n",
        "\n",
        "b = np.ones((1,2))    # Cria array de \"1s\"\n",
        "print(b)              \n",
        "\n",
        "c = np.full((2,2), 7) # Array constante \n",
        "print(c)               \n",
        "                       \n",
        "\n",
        "d = np.eye(2)         # Matriz-identidade\n",
        "print(d)              \n",
        "\n",
        "e = np.random.random((2,2))  # Array de números aleatórios\n",
        "print(e)                     \n",
        "                             "
      ],
      "execution_count": null,
      "outputs": []
    },
    {
      "cell_type": "markdown",
      "metadata": {
        "id": "AXQm8X1Ocz62",
        "colab_type": "text"
      },
      "source": [
        "### Indexando arrays"
      ]
    },
    {
      "cell_type": "code",
      "metadata": {
        "id": "odsmOQaScpGF",
        "colab_type": "code",
        "colab": {}
      },
      "source": [
        "a = np.array([[1,2,3,4], [5,6,7,8], [9,10,11,12]])\n",
        "print(a)\n",
        "\n",
        "# Usando slicing para obter sub-array com as primeiras 2 linhas\n",
        "# e as colunas 1 e 2\n",
        "\n",
        "b = a[:2, 1:3]\n",
        "print(b)\n",
        "\n",
        "# Uma fatia de um array é uma VISÃO desse mesmo array. Isso significa\n",
        "# que modificar um elemento de \"b\" mudará o valor em \"a\".\n",
        "print(a[0, 1])  \n",
        "b[0, 0] = 77    \n",
        "print(a[0, 1])  \n",
        "\n",
        "c = a[:2, 1:3].copy()\n",
        "print(c)"
      ],
      "execution_count": null,
      "outputs": []
    },
    {
      "cell_type": "code",
      "metadata": {
        "id": "vXMuIa4jeGHm",
        "colab_type": "code",
        "colab": {}
      },
      "source": [
        "c[0, 0] = -1000\n",
        "print(c)\n",
        "print(a)"
      ],
      "execution_count": null,
      "outputs": []
    },
    {
      "cell_type": "code",
      "metadata": {
        "id": "lt-y8MrPeHdQ",
        "colab_type": "code",
        "colab": {}
      },
      "source": [
        "a > 10 # indexando"
      ],
      "execution_count": null,
      "outputs": []
    },
    {
      "cell_type": "code",
      "metadata": {
        "id": "D3sMRzeHe7Vv",
        "colab_type": "code",
        "colab": {}
      },
      "source": [
        "a[a > 10]"
      ],
      "execution_count": null,
      "outputs": []
    },
    {
      "cell_type": "markdown",
      "metadata": {
        "id": "DeK7GaHcfVgx",
        "colab_type": "text"
      },
      "source": [
        "### Operações com arrays"
      ]
    },
    {
      "cell_type": "code",
      "metadata": {
        "id": "ZlG_xq4Re-vN",
        "colab_type": "code",
        "colab": {}
      },
      "source": [
        "x = np.array([[1,2],[3,4]], dtype=np.float64)\n",
        "y = np.array([[5,6],[7,8]], dtype=np.float64)\n",
        "\n",
        "print(x + y)\n",
        "print(x - y)\n",
        "print(x * y)\n",
        "print(x / y)\n",
        "print(np.sqrt(x))\n"
      ],
      "execution_count": null,
      "outputs": []
    },
    {
      "cell_type": "code",
      "metadata": {
        "id": "-fORHkvbfiQ7",
        "colab_type": "code",
        "colab": {}
      },
      "source": [
        "print(np.dot(x, y))"
      ],
      "execution_count": null,
      "outputs": []
    },
    {
      "cell_type": "code",
      "metadata": {
        "id": "kp0bG6jmgBr2",
        "colab_type": "code",
        "colab": {}
      },
      "source": [
        "print(np.sum(x)) \n",
        "print(np.sum(x, axis=0))\n",
        "print(np.sum(x, axis=1))"
      ],
      "execution_count": null,
      "outputs": []
    },
    {
      "cell_type": "markdown",
      "metadata": {
        "id": "zSs7SbTxiGQS",
        "colab_type": "text"
      },
      "source": [
        "### Exercício"
      ]
    },
    {
      "cell_type": "code",
      "metadata": {
        "id": "P2zIaH-UiHu_",
        "colab_type": "code",
        "colab": {}
      },
      "source": [
        "from google.colab import drive\n",
        "drive.mount(\"/content/drive\")"
      ],
      "execution_count": null,
      "outputs": []
    },
    {
      "cell_type": "code",
      "metadata": {
        "id": "znRt6mssiKFk",
        "colab_type": "code",
        "colab": {}
      },
      "source": [
        "!ls drive/'My Drive'/Dados"
      ],
      "execution_count": null,
      "outputs": []
    },
    {
      "cell_type": "code",
      "metadata": {
        "id": "CBxAdo_WiNyd",
        "colab_type": "code",
        "colab": {}
      },
      "source": [
        "!pip install Pillow\n"
      ],
      "execution_count": null,
      "outputs": []
    },
    {
      "cell_type": "code",
      "metadata": {
        "id": "gUION3C4ibwL",
        "colab_type": "code",
        "colab": {}
      },
      "source": [
        "from PIL import Image\n",
        "img = Image.open(\"drive/My Drive/Dados/gato.png\")"
      ],
      "execution_count": null,
      "outputs": []
    },
    {
      "cell_type": "code",
      "metadata": {
        "id": "B-aT_JBhirfa",
        "colab_type": "code",
        "colab": {}
      },
      "source": [
        "print(type(img))\n",
        "imgnp = np.array(img)\n",
        "print(type(imgnp))"
      ],
      "execution_count": null,
      "outputs": []
    },
    {
      "cell_type": "code",
      "metadata": {
        "id": "vvzzbU87krWh",
        "colab_type": "code",
        "colab": {}
      },
      "source": [
        "print(imgnp.shape)"
      ],
      "execution_count": null,
      "outputs": []
    },
    {
      "cell_type": "code",
      "metadata": {
        "id": "N9cfH1LllgQQ",
        "colab_type": "code",
        "colab": {}
      },
      "source": [
        ""
      ],
      "execution_count": null,
      "outputs": []
    }
  ]
}